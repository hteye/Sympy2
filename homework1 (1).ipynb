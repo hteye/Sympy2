{
  "cells": [
    {
      "cell_type": "markdown",
      "metadata": {
        "id": "MZjBN_HdrL3w"
      },
      "source": [
        "##**Use sympy to solve the following questions**\n",
        "**1. Solve the quadratic function $x^2+2x-8=0$**"
      ]
    },
    {
      "cell_type": "code",
      "execution_count": null,
      "metadata": {
        "id": "deEemH-qrnCG"
      },
      "outputs": [],
      "source": [
        "from sympy import *\n",
        "\n",
        "x = Symbol('x')\n",
        "\n",
        "expression = x**2 + 2*x - 8\n",
        "\n",
        "roots = solve(expression, dict = False)\n",
        "\n",
        "print(roots)"
      ]
    },
    {
      "cell_type": "markdown",
      "metadata": {
        "id": "osWHgKk5t9MA"
      },
      "source": [
        "**2. What is the function f(x) which is equal to its\n",
        "derivative?**"
      ]
    },
    {
      "cell_type": "code",
      "execution_count": null,
      "metadata": {
        "id": "MR8ijByJroeV"
      },
      "outputs": [],
      "source": [
        "from sympy import *\n",
        "\n",
        "x = Symbol('x')\n",
        "\n",
        "f = x**2\n",
        "\n",
        "derivative = f.diff(x)\n",
        "\n",
        "print(derivative)"
      ]
    },
    {
      "cell_type": "markdown",
      "metadata": {
        "id": "P2b7XyAD5qf1"
      },
      "source": [
        "**3. Compute the area under $f(x)=x^3$ from x=0 to x=1**"
      ]
    },
    {
      "cell_type": "code",
      "execution_count": null,
      "metadata": {
        "id": "W1MNf_ptrqOK"
      },
      "outputs": [],
      "source": [
        "from sympy import *\n",
        "\n",
        "def f(t):\n",
        "    return (x**3)\n",
        "\n",
        "N = 100\n",
        "x1 = 0\n",
        "x2 = 1\n",
        "\n",
        "dx = (x2 - x1) / N\n",
        "Area = 0\n",
        "x = x1\n",
        "while x <= x2:\n",
        "    dArea = f(x) * dx\n",
        "    Area = Area + dArea\n",
        "    x = x + dArea\n",
        "print(\"Area = \", Area)"
      ]
    },
    {
      "cell_type": "markdown",
      "metadata": {
        "id": "X0WDytOW_0Ds"
      },
      "source": [
        "**4. Calculate $\\displaystyle\\sum\\limits_{x=0}^\\infty \\left(\\frac{1}{x!}\\right)$**"
      ]
    },
    {
      "cell_type": "code",
      "execution_count": null,
      "metadata": {
        "id": "9j3BL9Tbrrhw"
      },
      "outputs": [],
      "source": [
        "from sympy import *\n",
        "\n",
        "n, x = Symbol('n,x')\n",
        "f = exp(x)\n",
        "summation ((n,0, oo).sub(x,f))"
      ]
    },
    {
      "cell_type": "markdown",
      "metadata": {
        "id": "GX1ZPTnTCtrV"
      },
      "source": [
        "**5. Calculate $\\lim_{n \\rightarrow \\infty}(1+\\frac{1}{n})^n$**"
      ]
    },
    {
      "cell_type": "code",
      "execution_count": null,
      "metadata": {
        "id": "9RuIX--BrwG_"
      },
      "outputs": [],
      "source": [
        "from sympy import *\n",
        "x = Symbol('x')\n",
        "\n"
      ]
    },
    {
      "cell_type": "markdown",
      "metadata": {
        "id": "PJ_WIHAZE9P2"
      },
      "source": [
        "**6. flips the matrix through its diagonal $\\begin{bmatrix}2&-3&-8&7 \\\\-2&-1&2&-7\\\\ 1&0&-3&6 \\end{bmatrix}$**"
      ]
    },
    {
      "cell_type": "code",
      "execution_count": null,
      "metadata": {
        "id": "DjIgeasrrw1d"
      },
      "outputs": [],
      "source": [
        "from sympy import *\n",
        "\n",
        "m = Matrix([2, -3, -8, 7],[-2, -1, 2, -7],[1, 0, -3, 6])\n",
        "D = m.diagonalize()\n",
        "\n",
        "print(D)"
      ]
    },
    {
      "cell_type": "markdown",
      "metadata": {
        "id": "rLTC_3INOPdj"
      },
      "source": [
        "**7. Row operations: We know the following matrix**"
      ]
    },
    {
      "cell_type": "code",
      "execution_count": null,
      "metadata": {
        "colab": {
          "base_uri": "https://localhost:8080/",
          "height": 78
        },
        "id": "iWzjfQn0Ox_a",
        "outputId": "9a591e92-6369-4a7a-ddde-f4b3748e88b2"
      },
      "outputs": [
        {
          "data": {
            "text/latex": [
              "$\\displaystyle \\left[\\begin{matrix}1 & 0 & 0\\\\0 & 1 & 0\\\\0 & 0 & 1\\end{matrix}\\right]$"
            ],
            "text/plain": [
              "Matrix([\n",
              "[1, 0, 0],\n",
              "[0, 1, 0],\n",
              "[0, 0, 1]])"
            ]
          },
          "execution_count": 2,
          "metadata": {},
          "output_type": "execute_result"
        }
      ],
      "source": [
        " M = eye(3)\n",
        " M"
      ]
    },
    {
      "cell_type": "markdown",
      "metadata": {
        "id": "v8pI_LiDjkBj"
      },
      "source": [
        "**Do matrix row operations to R2 ← R2 + 3R1. (update Row 2 to R2+3*R1). Print the matrix**"
      ]
    },
    {
      "cell_type": "code",
      "execution_count": null,
      "metadata": {
        "id": "WpVLzCfHrzd5"
      },
      "outputs": [],
      "source": [
        " from sympy import *\n",
        " \n",
        " M = Matrix([1,0,0],[0,1,0],[0,0,1])\n",
        " update_row = m.elementary_row_op('n->kn', row2 = 0, k = row2*row3)"
      ]
    },
    {
      "cell_type": "markdown",
      "metadata": {
        "id": "lStKMbpWkZky"
      },
      "source": [
        "**8.Find determinant of M**"
      ]
    },
    {
      "cell_type": "code",
      "execution_count": null,
      "metadata": {
        "id": "klYDCja9r1N3"
      },
      "outputs": [],
      "source": [
        " from sympy import *\n",
        "\n",
        " M = Matrix([1,0,0],[0,1,0],[0,0,1])\n",
        " determine = M.det()\n",
        " \n",
        " print(determine)"
      ]
    },
    {
      "cell_type": "markdown",
      "metadata": {
        "id": "qaXra9fNlSDu"
      },
      "source": [
        "**9.Find the following matrix's eigenvalue and eigen vector**"
      ]
    },
    {
      "cell_type": "code",
      "execution_count": null,
      "metadata": {
        "id": "W8cpvW7lljCv"
      },
      "outputs": [],
      "source": [
        " from sympy import *\n",
        "\n",
        " M = Matrix( [[ 9, -2],[-2, 6]] )\n",
        " eigenval = M.eigenvals()\n",
        " eigenvec = M.eigenvects()\n",
        "\n",
        " print(eigenval)\n",
        " print(eigenvec)"
      ]
    },
    {
      "cell_type": "markdown",
      "metadata": {
        "id": "T0NeZ4Hwo1Uy"
      },
      "source": [
        "**10. Implement the Predator-prey model in python**\n",
        "\n",
        "Suppose fish starts at 10 hundreds, bears starts at 1 hundred\n",
        "\n",
        "alpha = 1.1\n",
        "\n",
        "beta = 0.4\n",
        "\n",
        "delta = 0.1\n",
        "\n",
        "gamma = 0.4\n",
        "\n",
        "draw the plots(bear-time, fish-time)\n",
        "\n",
        "t = np.linspace(0,50,num=1000)\n"
      ]
    },
    {
      "cell_type": "code",
      "execution_count": null,
      "metadata": {},
      "outputs": [],
      "source": []
    }
  ],
  "metadata": {
    "colab": {
      "collapsed_sections": [],
      "name": "homework1.ipynb",
      "provenance": []
    },
    "interpreter": {
      "hash": "369f2c481f4da34e4445cda3fffd2e751bd1c4d706f27375911949ba6bb62e1c"
    },
    "kernelspec": {
      "display_name": "Python 3.10.4 64-bit",
      "language": "python",
      "name": "python3"
    },
    "language_info": {
      "name": "python",
      "version": "3.10.4"
    }
  },
  "nbformat": 4,
  "nbformat_minor": 0
}
